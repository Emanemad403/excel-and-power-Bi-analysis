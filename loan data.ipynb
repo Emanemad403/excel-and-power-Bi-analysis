{
 "cells": [
  {
   "cell_type": "code",
   "execution_count": 1,
   "id": "53b4f191-ad99-4e4b-9e2f-0868d3215705",
   "metadata": {},
   "outputs": [],
   "source": [
    "import pandas as pd"
   ]
  },
  {
   "cell_type": "code",
   "execution_count": 2,
   "id": "9e3a1215-d66c-4424-897b-7e32dbe99714",
   "metadata": {},
   "outputs": [],
   "source": [
    "df =pd.read_csv(\"loan_data.csv.csv\")"
   ]
  },
  {
   "cell_type": "code",
   "execution_count": 3,
   "id": "df1b5dc6-0fa9-4d4d-af10-8b0a14c9fd0a",
   "metadata": {},
   "outputs": [
    {
     "data": {
      "text/html": [
       "<div>\n",
       "<style scoped>\n",
       "    .dataframe tbody tr th:only-of-type {\n",
       "        vertical-align: middle;\n",
       "    }\n",
       "\n",
       "    .dataframe tbody tr th {\n",
       "        vertical-align: top;\n",
       "    }\n",
       "\n",
       "    .dataframe thead th {\n",
       "        text-align: right;\n",
       "    }\n",
       "</style>\n",
       "<table border=\"1\" class=\"dataframe\">\n",
       "  <thead>\n",
       "    <tr style=\"text-align: right;\">\n",
       "      <th></th>\n",
       "      <th>credit_policy</th>\n",
       "      <th>purpose</th>\n",
       "      <th>int_rate</th>\n",
       "      <th>installment</th>\n",
       "      <th>log.annual.inc</th>\n",
       "      <th>dti</th>\n",
       "      <th>fico</th>\n",
       "      <th>days_with_cr_line</th>\n",
       "      <th>revol_bal</th>\n",
       "      <th>revol_util</th>\n",
       "      <th>inq_ast_6mths</th>\n",
       "      <th>delinq_2yrs</th>\n",
       "      <th>pub_rec</th>\n",
       "      <th>not_fully_paid</th>\n",
       "    </tr>\n",
       "  </thead>\n",
       "  <tbody>\n",
       "    <tr>\n",
       "      <th>0</th>\n",
       "      <td>1</td>\n",
       "      <td>debt_consolidation</td>\n",
       "      <td>0.1189</td>\n",
       "      <td>829.10</td>\n",
       "      <td>11.350407</td>\n",
       "      <td>19.48</td>\n",
       "      <td>737</td>\n",
       "      <td>5639.958333</td>\n",
       "      <td>28854</td>\n",
       "      <td>52.1</td>\n",
       "      <td>0</td>\n",
       "      <td>0</td>\n",
       "      <td>0</td>\n",
       "      <td>0</td>\n",
       "    </tr>\n",
       "    <tr>\n",
       "      <th>1</th>\n",
       "      <td>1</td>\n",
       "      <td>credit_card</td>\n",
       "      <td>0.1071</td>\n",
       "      <td>228.22</td>\n",
       "      <td>11.082143</td>\n",
       "      <td>14.29</td>\n",
       "      <td>707</td>\n",
       "      <td>2760.000000</td>\n",
       "      <td>33623</td>\n",
       "      <td>76.7</td>\n",
       "      <td>0</td>\n",
       "      <td>0</td>\n",
       "      <td>0</td>\n",
       "      <td>0</td>\n",
       "    </tr>\n",
       "    <tr>\n",
       "      <th>2</th>\n",
       "      <td>1</td>\n",
       "      <td>debt_consolidation</td>\n",
       "      <td>0.1357</td>\n",
       "      <td>366.86</td>\n",
       "      <td>10.373491</td>\n",
       "      <td>11.63</td>\n",
       "      <td>682</td>\n",
       "      <td>4710.000000</td>\n",
       "      <td>3511</td>\n",
       "      <td>25.6</td>\n",
       "      <td>1</td>\n",
       "      <td>0</td>\n",
       "      <td>0</td>\n",
       "      <td>0</td>\n",
       "    </tr>\n",
       "    <tr>\n",
       "      <th>3</th>\n",
       "      <td>1</td>\n",
       "      <td>debt_consolidation</td>\n",
       "      <td>0.1008</td>\n",
       "      <td>162.34</td>\n",
       "      <td>11.350407</td>\n",
       "      <td>8.10</td>\n",
       "      <td>712</td>\n",
       "      <td>2699.958333</td>\n",
       "      <td>33667</td>\n",
       "      <td>73.2</td>\n",
       "      <td>1</td>\n",
       "      <td>0</td>\n",
       "      <td>0</td>\n",
       "      <td>0</td>\n",
       "    </tr>\n",
       "    <tr>\n",
       "      <th>4</th>\n",
       "      <td>1</td>\n",
       "      <td>credit_card</td>\n",
       "      <td>0.1426</td>\n",
       "      <td>102.92</td>\n",
       "      <td>11.299732</td>\n",
       "      <td>14.97</td>\n",
       "      <td>667</td>\n",
       "      <td>4066.000000</td>\n",
       "      <td>4740</td>\n",
       "      <td>39.5</td>\n",
       "      <td>0</td>\n",
       "      <td>1</td>\n",
       "      <td>0</td>\n",
       "      <td>0</td>\n",
       "    </tr>\n",
       "  </tbody>\n",
       "</table>\n",
       "</div>"
      ],
      "text/plain": [
       "   credit_policy             purpose  int_rate  installment  log.annual.inc  \\\n",
       "0              1  debt_consolidation    0.1189       829.10       11.350407   \n",
       "1              1         credit_card    0.1071       228.22       11.082143   \n",
       "2              1  debt_consolidation    0.1357       366.86       10.373491   \n",
       "3              1  debt_consolidation    0.1008       162.34       11.350407   \n",
       "4              1         credit_card    0.1426       102.92       11.299732   \n",
       "\n",
       "     dti  fico  days_with_cr_line  revol_bal  revol_util  inq_ast_6mths  \\\n",
       "0  19.48   737        5639.958333      28854        52.1              0   \n",
       "1  14.29   707        2760.000000      33623        76.7              0   \n",
       "2  11.63   682        4710.000000       3511        25.6              1   \n",
       "3   8.10   712        2699.958333      33667        73.2              1   \n",
       "4  14.97   667        4066.000000       4740        39.5              0   \n",
       "\n",
       "   delinq_2yrs  pub_rec  not_fully_paid  \n",
       "0            0        0               0  \n",
       "1            0        0               0  \n",
       "2            0        0               0  \n",
       "3            0        0               0  \n",
       "4            1        0               0  "
      ]
     },
     "execution_count": 3,
     "metadata": {},
     "output_type": "execute_result"
    }
   ],
   "source": [
    "df.head()"
   ]
  },
  {
   "cell_type": "code",
   "execution_count": 4,
   "id": "d479ae48-9104-4e04-916f-a62d3f9666b9",
   "metadata": {},
   "outputs": [
    {
     "name": "stdout",
     "output_type": "stream",
     "text": [
      "0       0.1189\n",
      "2       0.1357\n",
      "3       0.1008\n",
      "6       0.1496\n",
      "9       0.1221\n",
      "         ...  \n",
      "9562    0.1348\n",
      "9563    0.1099\n",
      "9572    0.1565\n",
      "9575    0.1071\n",
      "9577    0.1392\n",
      "Name: int_rate, Length: 3957, dtype: float64\n"
     ]
    }
   ],
   "source": [
    " question1loan=df[df[\"purpose\"]==\"debt_consolidation\"][\"int_rate\"]\n",
    "print (question1loan)"
   ]
  },
  {
   "cell_type": "code",
   "execution_count": 5,
   "id": "8af4bc6f-3a1c-41c8-9f65-3c1cbfbd9222",
   "metadata": {},
   "outputs": [],
   "source": [
    "question1loan.to_csv(\"question1loan.csv\")"
   ]
  },
  {
   "cell_type": "code",
   "execution_count": 6,
   "id": "05c3df13-e44f-41cc-a664-4ecea4a98f50",
   "metadata": {},
   "outputs": [],
   "source": [
    "question2loan=df[[\"purpose\",\"inq_ast_6mths\"]]"
   ]
  },
  {
   "cell_type": "code",
   "execution_count": 7,
   "id": "1db3ee88-756a-4cf2-9c6f-0eea4b4c2f12",
   "metadata": {},
   "outputs": [],
   "source": [
    "question2loan.to_csv(\"question2loan.csv\")"
   ]
  },
  {
   "cell_type": "code",
   "execution_count": 8,
   "id": "86e0d1f7-8b97-4671-859c-3aa0200d26df",
   "metadata": {},
   "outputs": [],
   "source": [
    "question3loan=df[\"purpose\"].value_counts()"
   ]
  },
  {
   "cell_type": "code",
   "execution_count": 9,
   "id": "cd1c338a-7a78-4a51-9ead-f6157d6c94f6",
   "metadata": {},
   "outputs": [],
   "source": [
    "question3loan.to_csv(\"question3loan.csv\")"
   ]
  },
  {
   "cell_type": "code",
   "execution_count": 10,
   "id": "3e1b1442-e32f-4655-8281-d4836a886959",
   "metadata": {},
   "outputs": [],
   "source": [
    "question4loan=df[\"inq_ast_6mths\"].value_counts()"
   ]
  },
  {
   "cell_type": "code",
   "execution_count": 11,
   "id": "2eebbe38-fd45-4153-b8fd-9b1fab5bbc38",
   "metadata": {},
   "outputs": [],
   "source": [
    "question4loan.to_csv(\"question4loan.csv\")"
   ]
  },
  {
   "cell_type": "code",
   "execution_count": 12,
   "id": "43b0e142-6c8a-407b-a044-f6d47e968919",
   "metadata": {},
   "outputs": [],
   "source": [
    "question5loan=df[df[\"purpose\"]==\"credit_card\"][\"inq_ast_6mths\"]"
   ]
  },
  {
   "cell_type": "code",
   "execution_count": 13,
   "id": "b7e04769-7793-4f6b-847e-1e4d44fba669",
   "metadata": {},
   "outputs": [],
   "source": [
    "question5loan.to_csv(\"question5loan.csv\")"
   ]
  },
  {
   "cell_type": "code",
   "execution_count": 14,
   "id": "bf44c836-9bb6-4409-ada8-31de6a39acf2",
   "metadata": {},
   "outputs": [],
   "source": [
    "question6loan=df[df[\"purpose\"]==\"home_improvement\"][\"installment\"]"
   ]
  },
  {
   "cell_type": "code",
   "execution_count": 15,
   "id": "7995d573-e5f5-4e64-b8a7-cea7763a5de0",
   "metadata": {},
   "outputs": [],
   "source": [
    "question6loan.to_csv(\"question6loan.csv\")"
   ]
  },
  {
   "cell_type": "code",
   "execution_count": 16,
   "id": "2df8b173-a867-4aa7-9fdd-ad85678e2fd9",
   "metadata": {},
   "outputs": [],
   "source": [
    "question8loan=df[df[\"purpose\"]==\"credit_card\"][\"revol_util\"]"
   ]
  },
  {
   "cell_type": "code",
   "execution_count": 17,
   "id": "7055dc69-34c4-4995-a242-b33550f6e156",
   "metadata": {},
   "outputs": [],
   "source": [
    "question8loan.to_csv(\"question8loan.csv\")"
   ]
  },
  {
   "cell_type": "code",
   "execution_count": 18,
   "id": "b26b287b-98d4-4436-ad30-832bfda8b24f",
   "metadata": {},
   "outputs": [],
   "source": [
    "question9loan=df[df[\"purpose\"]==\"credit_card\"][\"revol_bal\"]"
   ]
  },
  {
   "cell_type": "code",
   "execution_count": 19,
   "id": "d1bf3a16-e348-425f-be17-728ab31fee3c",
   "metadata": {},
   "outputs": [],
   "source": [
    "question9loan.to_csv(\"question9loan.csv\")"
   ]
  },
  {
   "cell_type": "code",
   "execution_count": 20,
   "id": "f0cb2bac-255b-4900-833a-1d8281f1b56d",
   "metadata": {},
   "outputs": [],
   "source": [
    "question10loan=df[df[\"purpose\"]==\"credit_card\"][[\"fico\",\"inq_ast_6mths\"]]"
   ]
  },
  {
   "cell_type": "code",
   "execution_count": 21,
   "id": "6e5eb2ab-488f-4106-a19d-05047e378e50",
   "metadata": {},
   "outputs": [],
   "source": [
    "question10loan.to_csv(\"question10loan.csv\")"
   ]
  },
  {
   "cell_type": "code",
   "execution_count": 22,
   "id": "901f9127-95a4-4761-a23b-1bff9f2e3378",
   "metadata": {},
   "outputs": [],
   "source": [
    "question11loan=df[df[\"purpose\"]==\"debt_consolidation\"][\"dti\"]"
   ]
  },
  {
   "cell_type": "code",
   "execution_count": 23,
   "id": "8afd33a5-ae9e-4e3e-940c-6e10fddda219",
   "metadata": {},
   "outputs": [],
   "source": [
    "question11loan.to_csv(\"question11loan.csv\")"
   ]
  },
  {
   "cell_type": "code",
   "execution_count": 24,
   "id": "063291f6-24e2-4d2a-806e-6c9da7b2f533",
   "metadata": {},
   "outputs": [],
   "source": [
    "question12loan=df[df[\"purpose\"]==\"credit_card\"][\"revol_util\"]"
   ]
  },
  {
   "cell_type": "code",
   "execution_count": 25,
   "id": "5475303b-6d6d-4c25-9863-df7e81dcab05",
   "metadata": {},
   "outputs": [],
   "source": [
    "question12loan.to_csv(\"question12loan.csv\")"
   ]
  },
  {
   "cell_type": "code",
   "execution_count": 26,
   "id": "ebf7e08e-3d9e-4cdf-962e-54e55bfbeb24",
   "metadata": {},
   "outputs": [],
   "source": [
    "question13loan=df[[\"purpose\",\"revol_util\" , \"dti\"]]"
   ]
  },
  {
   "cell_type": "code",
   "execution_count": 27,
   "id": "4502616f-49f4-404b-920f-908f9244253d",
   "metadata": {},
   "outputs": [],
   "source": [
    "question13loan.to_csv(\"question13loan.csv\")"
   ]
  },
  {
   "cell_type": "code",
   "execution_count": 28,
   "id": "5137e744-9362-4bdb-98e9-a2fc0f9eabef",
   "metadata": {},
   "outputs": [],
   "source": [
    "question14loan=df[df[\"purpose\"]==\"credit_card\"][\"revol_bal\"]"
   ]
  },
  {
   "cell_type": "code",
   "execution_count": 29,
   "id": "cc18756c-07d7-4f8d-9a93-6f8bd12c3939",
   "metadata": {},
   "outputs": [],
   "source": [
    "question14loan.to_csv(\"question14loan.csv\")"
   ]
  },
  {
   "cell_type": "code",
   "execution_count": 30,
   "id": "6124426c-9acf-45ed-99be-6502f4302e1d",
   "metadata": {},
   "outputs": [],
   "source": [
    "question15loan=df[\"delinq_2yrs\"].value_counts()"
   ]
  },
  {
   "cell_type": "code",
   "execution_count": 31,
   "id": "a396b1cc-d841-4e20-bb09-98e2edc381b8",
   "metadata": {},
   "outputs": [],
   "source": [
    "question15loan.to_csv(\"question15loan.csv\")"
   ]
  },
  {
   "cell_type": "code",
   "execution_count": 33,
   "id": "4df6849d-9be8-43b3-9420-7ccc78532a8e",
   "metadata": {},
   "outputs": [
    {
     "data": {
      "text/plain": [
       "268.95"
      ]
     },
     "execution_count": 33,
     "metadata": {},
     "output_type": "execute_result"
    }
   ],
   "source": [
    "df[\"installment\"].median()"
   ]
  },
  {
   "cell_type": "code",
   "execution_count": 38,
   "id": "570aee12-298e-456b-be66-5dbee1646135",
   "metadata": {},
   "outputs": [
    {
     "name": "stdout",
     "output_type": "stream",
     "text": [
      "   installment\n",
      "0       268.95\n"
     ]
    }
   ],
   "source": [
    "data = {\n",
    "  \"installment\":[268.95],\n",
    "}\n",
    "\n",
    "#load data into a DataFrame object:\n",
    "qustion16loan = pd.DataFrame(data)\n",
    "\n",
    "print(qustion16loan) "
   ]
  },
  {
   "cell_type": "code",
   "execution_count": 39,
   "id": "2eaeb71f-3908-4fea-8846-ed704259bc53",
   "metadata": {},
   "outputs": [],
   "source": [
    "qustion16loan.to_csv(\"qustion16loan.csv\")"
   ]
  },
  {
   "cell_type": "code",
   "execution_count": 34,
   "id": "26ac238e-47a0-4897-beb2-8efa9a0b68c8",
   "metadata": {},
   "outputs": [],
   "source": [
    "question17loan=df[df[\"purpose\"]==\"debt_consolidation\"][\"fico\"]"
   ]
  },
  {
   "cell_type": "code",
   "execution_count": 35,
   "id": "193da9fe-f252-4192-9974-56a03a6398b7",
   "metadata": {},
   "outputs": [],
   "source": [
    "question17loan.to_csv(\"question17loan.csv\")"
   ]
  },
  {
   "cell_type": "code",
   "execution_count": 36,
   "id": "d8a6d9fb-c0f5-4a6b-8157-d4a6d851f91a",
   "metadata": {},
   "outputs": [
    {
     "data": {
      "text/plain": [
       "10.92888357"
      ]
     },
     "execution_count": 36,
     "metadata": {},
     "output_type": "execute_result"
    }
   ],
   "source": [
    "df[\"log.annual.inc\"].median()"
   ]
  },
  {
   "cell_type": "code",
   "execution_count": 40,
   "id": "095227b6-b667-4860-89be-fc371bf73d90",
   "metadata": {},
   "outputs": [
    {
     "name": "stdout",
     "output_type": "stream",
     "text": [
      "   log.annual.inc\n",
      "0       10.928884\n"
     ]
    }
   ],
   "source": [
    "data = {\n",
    "  \"log.annual.inc\":[10.92888357],\n",
    "}\n",
    "\n",
    "#load data into a DataFrame object:\n",
    "question7loan = pd.DataFrame(data)\n",
    "\n",
    "print(question7loan) "
   ]
  },
  {
   "cell_type": "code",
   "execution_count": 41,
   "id": "4fc680a5-52c9-46d3-bae8-2aa6d928a3cd",
   "metadata": {},
   "outputs": [],
   "source": [
    "question7loan.to_csv(\"question7loan.csv\")"
   ]
  },
  {
   "cell_type": "code",
   "execution_count": null,
   "id": "94ce8830-55ef-4546-bf08-85bdc6f2f19e",
   "metadata": {},
   "outputs": [],
   "source": []
  }
 ],
 "metadata": {
  "kernelspec": {
   "display_name": "Python 3 (ipykernel)",
   "language": "python",
   "name": "python3"
  },
  "language_info": {
   "codemirror_mode": {
    "name": "ipython",
    "version": 3
   },
   "file_extension": ".py",
   "mimetype": "text/x-python",
   "name": "python",
   "nbconvert_exporter": "python",
   "pygments_lexer": "ipython3",
   "version": "3.10.9"
  }
 },
 "nbformat": 4,
 "nbformat_minor": 5
}
